{
  "nbformat": 4,
  "nbformat_minor": 0,
  "metadata": {
    "colab": {
      "provenance": []
    },
    "kernelspec": {
      "name": "python3",
      "display_name": "Python 3"
    },
    "language_info": {
      "name": "python"
    }
  },
  "cells": [
    {
      "cell_type": "markdown",
      "source": [
        "# **Exercise 1: Propositional Logic in Python**"
      ],
      "metadata": {
        "id": "VlMyqoPd5KaR"
      }
    },
    {
      "cell_type": "markdown",
      "source": [
        "Problem:\n",
        "\n",
        "\n",
        "*   \"If it rains, the ground will be wet.\"\n",
        "*   \"If the ground is wet, the match will not light.\"\n",
        "*   \"It is raining.\"\n",
        "\n",
        "Solution:\n",
        "\n",
        "\n",
        "\n",
        "\n"
      ],
      "metadata": {
        "id": "sFyCgGci5Smr"
      }
    },
    {
      "cell_type": "code",
      "source": [
        "rains = True\n",
        "\n",
        "def ground_wet(rains):\n",
        "  return rains\n",
        "\n",
        "def match_light(ground_wet):\n",
        "  return not ground_wet\n",
        "\n",
        "if rains:\n",
        "  is_ground_wet = ground_wet(rains)\n",
        "  can_match_light = match_light(is_ground_wet)\n",
        "\n",
        "  if can_match_light:\n",
        "    print(\"The match will light\")\n",
        "  else:\n",
        "    print(\"The match will not light\")"
      ],
      "metadata": {
        "id": "VRcPLVdG4_Mm",
        "outputId": "2e395613-62b2-402e-f77a-8f9d1be345e5",
        "colab": {
          "base_uri": "https://localhost:8080/"
        }
      },
      "execution_count": null,
      "outputs": [
        {
          "output_type": "stream",
          "name": "stdout",
          "text": [
            "The match will not light\n"
          ]
        }
      ]
    },
    {
      "cell_type": "markdown",
      "source": [
        "# **Exercise 2: Predicate Logic Representation**\n",
        "\n",
        "\n",
        "\n",
        "---\n",
        "\n",
        "\n",
        "\n",
        "*   \"All humans are mortal.\"\n",
        "*   \"Socrates is a human.\"\n",
        "*   \"Therefore, Socrates is mortal.\"\n",
        "\n"
      ],
      "metadata": {
        "id": "qXwawYp3rLVx"
      }
    },
    {
      "cell_type": "code",
      "source": [
        "def isHuman(person):\n",
        "  return person == \"Socrates\"\n",
        "\n",
        "def isMortal(person):\n",
        "  if isHuman(person):\n",
        "    return True\n",
        "  else:\n",
        "    return False\n",
        "\n",
        "person = \"Socrates\"\n",
        "\n",
        "if isMortal(person):\n",
        "  print(f\"{person} is mortal\")\n",
        "else:\n",
        "  print(f\"{person} is not mortal\")"
      ],
      "metadata": {
        "colab": {
          "base_uri": "https://localhost:8080/"
        },
        "id": "rA9_l_jOr7G2",
        "outputId": "74f0cc03-6060-49c1-fabe-685ca33a3a32"
      },
      "execution_count": 3,
      "outputs": [
        {
          "output_type": "stream",
          "name": "stdout",
          "text": [
            "Socrates is mortal\n"
          ]
        }
      ]
    },
    {
      "cell_type": "markdown",
      "source": [
        "# **Exercise 3: Inference Techniques in Logic**\n",
        "\n",
        "\n",
        "\n",
        "---\n",
        "\n",
        "*   Rule: \"If X is true, then Y is True.\"\n",
        "*   Fact: \"X is true.\"\n",
        "*   Conclusion: \"Y is true.\""
      ],
      "metadata": {
        "id": "Oe-BfoPTtCP8"
      }
    },
    {
      "cell_type": "code",
      "source": [
        "def modus_ponens(rules, facts):\n",
        "  conclusions = []\n",
        "  for rule in rules:\n",
        "    premise, conclusion = rule\n",
        "    if premise in facts:\n",
        "      conclusions.append(conclusion)\n",
        "  return conclusions\n",
        "\n",
        "rules = [(\"X\", \"Y\")]\n",
        "facts = [\"X\"]\n",
        "\n",
        "conclusions = modus_ponens(rules, facts)\n",
        "print(\"Inferred Conclusions\", conclusions)"
      ],
      "metadata": {
        "colab": {
          "base_uri": "https://localhost:8080/"
        },
        "id": "tyh7QvI6vOgK",
        "outputId": "8f015ae0-cc30-4bca-a2fa-f1f6c9586737"
      },
      "execution_count": 4,
      "outputs": [
        {
          "output_type": "stream",
          "name": "stdout",
          "text": [
            "Inferred Conclusions ['Y']\n"
          ]
        }
      ]
    },
    {
      "cell_type": "markdown",
      "source": [
        "# **Exercise 4: Propositional Logic**\n",
        "\n",
        "\n",
        "\n",
        "---\n",
        "\n",
        "*   \"If a person is hungry, they will eat.\"\n",
        "*   \"If a person eats, they will no longer be hungry.\"\n",
        "*   \"John is hungry.\""
      ],
      "metadata": {
        "id": "-gVMgVeTvpHu"
      }
    },
    {
      "cell_type": "code",
      "source": [
        "full = True\n",
        "\n",
        "def yes_eat(full):\n",
        "  return full\n",
        "\n",
        "def no_eat(yes_eat):\n",
        "  return not yes_eat\n",
        "\n",
        "if full:\n",
        "  is_full = yes_eat(full)\n",
        "  is_hungry = no_eat(is_full)\n",
        "\n",
        "  if is_full:\n",
        "    print(\"John will no longer be hungry\")\n",
        "  else:\n",
        "    print(\"John is hungry\")\n",
        "\n",
        ""
      ],
      "metadata": {
        "colab": {
          "base_uri": "https://localhost:8080/"
        },
        "id": "YpDD5RJrwAcF",
        "outputId": "349003d7-d0a3-449a-f65e-71c0e70a8e42"
      },
      "execution_count": 8,
      "outputs": [
        {
          "output_type": "stream",
          "name": "stdout",
          "text": [
            "John will no longer be hungry\n"
          ]
        }
      ]
    },
    {
      "cell_type": "markdown",
      "source": [
        "# **Implement a Logic-Based Model in Python**"
      ],
      "metadata": {
        "id": "CHG5wl3Vxv2S"
      }
    },
    {
      "cell_type": "code",
      "source": [
        "def is_greeting(statement):\n",
        "  greetings = [\"hello\", \"hi\", \"hey\"]\n",
        "  return statement.lower() in greetings\n",
        "\n",
        "def respond(statement):\n",
        "  if is_greeting(statement):\n",
        "    return \"Hello! How can I help you today?\"\n",
        "  else:\n",
        "    return \"I am not sure how to respond to that\"\n",
        "\n",
        "user_input = \"Hello\"\n",
        "response = respond(user_input)\n",
        "print(\"Chatbot: \", response)"
      ],
      "metadata": {
        "colab": {
          "base_uri": "https://localhost:8080/"
        },
        "id": "4VDb7KH1x0vi",
        "outputId": "024f599b-905f-4921-fa53-7dc60da463f9"
      },
      "execution_count": 10,
      "outputs": [
        {
          "output_type": "stream",
          "name": "stdout",
          "text": [
            "Chatbot:  Hello! How can I help you today?\n"
          ]
        }
      ]
    }
  ]
}