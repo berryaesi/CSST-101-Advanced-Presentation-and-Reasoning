{
  "nbformat": 4,
  "nbformat_minor": 0,
  "metadata": {
    "colab": {
      "provenance": []
    },
    "kernelspec": {
      "name": "python3",
      "display_name": "Python 3"
    },
    "language_info": {
      "name": "python"
    }
  },
  "cells": [
    {
      "cell_type": "markdown",
      "source": [
        "# **Machine Problem No. 1: Exploring the Role of Knowledge Representation in AI**\n",
        "\n",
        "\n",
        "\n",
        "---\n",
        "\n",
        "[Video Presentation](https://drive.google.com/file/d/1s9CKkhvR5gu3pWy0LqS2n-nBriGL2INH/view?usp=sharing)\n",
        "\n",
        "\n",
        "\n",
        "---\n",
        "\n",
        "# **Introduction to AI and Knowledge Representation**\n",
        "\n",
        "Artificial Intelligence (AI) encompasses systems designed to perform tasks that typically require human intelligence, such as reasoning, learning, and problem-solving. A critical aspect of AI is knowledge representation, which involves structuring and organizing knowledge so that AI systems can effectively process and utilize it. Knowledge representation enables machines to mimic human understanding, allowing them to make decisions, infer conclusions, and learn from experiences. It forms the backbone of intelligent behavior in AI, facilitating the development of applications ranging from natural language processing to expert systems.\n",
        "\n",
        "\n",
        "---\n",
        "\n",
        "# **Types of Knowledge Representation**\n",
        "\n",
        "There are several forms of knowledge representation in AI, including:\n",
        "\n",
        "1.   **Logical Representation**: This method uses formal logic to represent knowledge in a structured and unambiguous manner. For example, propositional logic can express facts and relationships, allowing AI systems to apply rules of inference. Applications include automated theorem proving and reasoning tasks.\n",
        "2.   Semantic Networks: Knowledge is represented through nodes (concepts) and links (relationships). For instance, a semantic network might depict that \"a dog is a mammal,\" illustrating the hierarchical relationship between different entities. This approach is useful in natural language processing and knowledge-based systems.\n",
        "3.   Frames: Frames are data structures that hold knowledge about objects, including their attributes and relationships. For example, a frame for a \"car\" might include properties like \"color\" and \"make.\" Frames facilitate the organization of knowledge and are often used in expert systems and cognitive simulations.\n",
        "\n",
        "\n",
        "---\n",
        "\n",
        "# **Conclusion**\n",
        "Effective knowledge representation is crucial in AI as it allows systems to understand and manipulate information similarly to humans. Through this activity, I learned that the choice of representation method significantly impacts an AI system's ability to reason and solve problems. A well-structured knowledge base not only enhances the system's performance but also enables it to adapt and learn from new data, ultimately improving its decision-making capabilities.\n",
        "\n",
        "\n",
        "---\n",
        "\n",
        "**References**\n",
        "Nilsson, N. J. (2014). Principles of artificial intelligence.\n",
        "\n",
        "*   Nilsson, N. J. (2014). Principles of artificial intelligence. Morgan Kaufmann.\n",
        "*   Sowa, J. F. (1992). Semantic networks. In S. C. Shapiro (Ed.), Encyclopedia of artificial intelligence (2nd ed., Vol. 2, pp. 1493-1511). Wiley. Retrieved from https://www.scribbr.com/apa-examples/website/\n",
        "*   Minsky, M. (1974). A framework for representing knowledge. MIT-AI Laboratory Memo 306. Retrieved from https://www.scribbr.com/apa-examples/website/\n",
        "*   Gruber, T. R. (1993). A translation approach to portable ontology specifications. Knowledge Acquisition, 5(2), 199-220. Retrieved from https://www.scribbr.com/apa-examples/website/\n",
        "*   Russell, S., & Norvig, P. (2021). Artificial intelligence: A modern approach (4th ed.). Pearson. Retrieved from https://www.scribbr.com/apa-examples/website/\n",
        "*   Ferrucci, D., Brown, E., Chu-Carroll, J., Fan, J., Gondek, D., Kalyanpur, A. A., Lally, A., Murdock, J. W., Nyberg, E., Prager, J., Schlaefer, N., & Welty, C. (2010). Building Watson: An overview of the DeepQA project. AI Magazine, 31(3), 59-79. Retrieved from https://www.scribbr.com/apa-examples/website/"
      ],
      "metadata": {
        "id": "3-DAmGR5ER7e"
      }
    }
  ]
}