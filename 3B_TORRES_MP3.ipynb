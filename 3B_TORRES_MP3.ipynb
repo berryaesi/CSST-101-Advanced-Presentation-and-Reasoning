{
  "nbformat": 4,
  "nbformat_minor": 0,
  "metadata": {
    "colab": {
      "provenance": []
    },
    "kernelspec": {
      "name": "python3",
      "display_name": "Python 3"
    },
    "language_info": {
      "name": "python"
    }
  },
  "cells": [
    {
      "cell_type": "markdown",
      "source": [
        "# **Basic Probability Calculations**"
      ],
      "metadata": {
        "id": "lE70h867IKjT"
      }
    },
    {
      "cell_type": "code",
      "execution_count": 1,
      "metadata": {
        "colab": {
          "base_uri": "https://localhost:8080/"
        },
        "id": "eweHmiqTHJbq",
        "outputId": "6ae0aea2-5c01-4cc1-f6de-383241363a6d"
      },
      "outputs": [
        {
          "output_type": "stream",
          "name": "stdout",
          "text": [
            "Enter the probability of event A (between 0 and 1): 0.5\n",
            "Enter the probability of event B (between 0 and 1): 0.9\n",
            "Joint Probability P(A and B): 0.45\n",
            "Marginal Probability P(A or B): 0.95\n"
          ]
        }
      ],
      "source": [
        "def joint_probability(p_a, p_b):\n",
        "    return p_a * p_b\n",
        "\n",
        "def marginal_probability(p_a, p_b):\n",
        "    return p_a + p_b - joint_probability(p_a, p_b)\n",
        "\n",
        "def conditional_probability(p_a_given_b, p_b):\n",
        "    return (p_a_given_b * p_b) / marginal_probability(p_a_given_b, p_b)\n",
        "\n",
        "# Interactive Component\n",
        "p_a = float(input(\"Enter the probability of event A (between 0 and 1): \"))\n",
        "p_b = float(input(\"Enter the probability of event B (between 0 and 1): \"))\n",
        "\n",
        "print(f\"Joint Probability P(A and B): {joint_probability(p_a, p_b)}\")\n",
        "print(f\"Marginal Probability P(A or B): {marginal_probability(p_a, p_b)}\")"
      ]
    },
    {
      "cell_type": "markdown",
      "source": [
        "# **Bayesian Inference for Real-World Scenarios**"
      ],
      "metadata": {
        "id": "PFBz4IwXIWcp"
      }
    },
    {
      "cell_type": "code",
      "source": [
        "def bayesian_inference(prior_prob, likelihood, evidence_prob):\n",
        "    posterior_prob = (likelihood * prior_prob) / evidence_prob\n",
        "    return posterior_prob\n",
        "\n",
        "# Interactive Component\n",
        "prior = float(input(\"Enter the prior probability of having the disease (between 0 and 1): \"))\n",
        "likelihood = float(input(\"Enter the likelihood of a positive test given disease (between 0 and 1): \"))\n",
        "evidence = float(input(\"Enter the overall probability of a positive test (between 0 and 1): \"))\n",
        "\n",
        "print(f\"Posterior Probability of having the disease: {bayesian_inference(prior, likelihood, evidence)}\")"
      ],
      "metadata": {
        "colab": {
          "base_uri": "https://localhost:8080/"
        },
        "id": "QwLJQRMiIZgh",
        "outputId": "7ed6ec32-0e46-4ebd-c875-1c30534d86aa"
      },
      "execution_count": 3,
      "outputs": [
        {
          "output_type": "stream",
          "name": "stdout",
          "text": [
            "Enter the prior probability of having the disease (between 0 and 1): 0.0001\n",
            "Enter the likelihood of a positive test given disease (between 0 and 1): 0.1\n",
            "Enter the overall probability of a positive test (between 0 and 1): 0.3\n",
            "Posterior Probability of having the disease: 3.3333333333333335e-05\n"
          ]
        }
      ]
    },
    {
      "cell_type": "markdown",
      "source": [
        "# **Simulate Decision-Making Under Uncertainty**"
      ],
      "metadata": {
        "id": "v1prrxOHIldR"
      }
    },
    {
      "cell_type": "code",
      "source": [
        "import random\n",
        "\n",
        "def decision_simulation(prob_success, reward, penalty, trials):\n",
        "    returns = []\n",
        "    for _ in range(trials):\n",
        "        if random.random() < prob_success:\n",
        "            returns.append(reward)\n",
        "        else:\n",
        "            returns.append(-penalty)\n",
        "    average_return = sum(returns) / trials\n",
        "    return average_return\n",
        "\n",
        "# Interactive Component\n",
        "prob_success = float(input(\"Enter the probability of success (between 0 and 1): \"))\n",
        "reward = float(input(\"Enter the reward for success: \"))\n",
        "penalty = float(input(\"Enter the penalty for failure: \"))\n",
        "trials = int(input(\"Enter the number of trials: \"))\n",
        "\n",
        "print(f\"Average return from simulation: {decision_simulation(prob_success, reward, penalty, trials)}\")"
      ],
      "metadata": {
        "colab": {
          "base_uri": "https://localhost:8080/"
        },
        "id": "dyINAlDEIoF4",
        "outputId": "73ca5b0d-86d5-4b9e-84da-eeb76924a2f0"
      },
      "execution_count": 5,
      "outputs": [
        {
          "output_type": "stream",
          "name": "stdout",
          "text": [
            "Enter the probability of success (between 0 and 1): 0.9\n",
            "Enter the reward for success: 1500\n",
            "Enter the penalty for failure: 2000\n",
            "Enter the number of trials: 5\n",
            "Average return from simulation: 800.0\n"
          ]
        }
      ]
    },
    {
      "cell_type": "markdown",
      "source": [
        "# **Visualize Probability Distributions**"
      ],
      "metadata": {
        "id": "J630Gcq1IzF3"
      }
    },
    {
      "cell_type": "code",
      "source": [
        "import numpy as np\n",
        "import matplotlib.pyplot as plt\n",
        "from scipy.stats import norm\n",
        "\n",
        "def visualize_distribution(distribution_type):\n",
        "    if distribution_type == 'binomial':\n",
        "        n = int(input(\"Enter number of trials for binomial distribution: \"))\n",
        "        p = float(input(\"Enter probability of success (between 0 and 1): \"))\n",
        "        x = np.arange(0, n + 1)\n",
        "        pmf = [binom.pmf(k, n, p) for k in x]\n",
        "        plt.bar(x, pmf)\n",
        "        plt.title('Binomial Distribution')\n",
        "        plt.xlabel('Number of Successes')\n",
        "        plt.ylabel('Probability')\n",
        "\n",
        "    elif distribution_type == 'normal':\n",
        "        mu = float(input(\"Enter mean for normal distribution: \"))\n",
        "        sigma = float(input(\"Enter standard deviation for normal distribution: \"))\n",
        "        x = np.linspace(mu - 3*sigma, mu + 3*sigma, 100)\n",
        "        plt.plot(x, norm.pdf(x, mu, sigma))\n",
        "        plt.title('Normal Distribution')\n",
        "        plt.xlabel('Value')\n",
        "        plt.ylabel('Probability Density')\n",
        "\n",
        "    plt.show()\n",
        "\n",
        "# Interactive Component\n",
        "dist_type = input(\"Choose distribution type (binomial/normal): \")\n",
        "visualize_distribution(dist_type)"
      ],
      "metadata": {
        "colab": {
          "base_uri": "https://localhost:8080/",
          "height": 527
        },
        "id": "_hFy7EnSI2CH",
        "outputId": "8e3cc865-fbfa-43ed-a243-63dffd1903a2"
      },
      "execution_count": 6,
      "outputs": [
        {
          "name": "stdout",
          "output_type": "stream",
          "text": [
            "Choose distribution type (binomial/normal): normal\n",
            "Enter mean for normal distribution: 2\n",
            "Enter standard deviation for normal distribution: 0.5\n"
          ]
        },
        {
          "output_type": "display_data",
          "data": {
            "text/plain": [
              "<Figure size 640x480 with 1 Axes>"
            ],
            "image/png": "[encoded data removed]"
          },
          "metadata": {}
        }
      ]
    },
    {
      "cell_type": "markdown",
      "source": [
        "# **Real-World Scenario Prediction**"
      ],
      "metadata": {
        "id": "NoF5QJrpI8aX"
      }
    },
    {
      "cell_type": "code",
      "source": [
        "def predict_rain(humidity, cloud_cover):\n",
        "    # Simple model: adjust coefficients as needed based on real data\n",
        "    probability_of_rain = (humidity * cloud_cover) / 100\n",
        "    return probability_of_rain\n",
        "\n",
        "# Interactive Component\n",
        "humidity = float(input(\"Enter humidity percentage (0-100): \"))\n",
        "cloud_cover = float(input(\"Enter cloud cover percentage (0-100): \"))\n",
        "\n",
        "print(f\"Probability of rain: {predict_rain(humidity, cloud_cover)}\")"
      ],
      "metadata": {
        "colab": {
          "base_uri": "https://localhost:8080/"
        },
        "id": "7CpsuqIpI-hI",
        "outputId": "ea1cbb3e-28c8-4737-9daa-cdd57d0f808e"
      },
      "execution_count": 7,
      "outputs": [
        {
          "output_type": "stream",
          "name": "stdout",
          "text": [
            "Enter humidity percentage (0-100): 84\n",
            "Enter cloud cover percentage (0-100): 80\n",
            "Probability of rain: 67.2\n"
          ]
        }
      ]
    }
  ]
}