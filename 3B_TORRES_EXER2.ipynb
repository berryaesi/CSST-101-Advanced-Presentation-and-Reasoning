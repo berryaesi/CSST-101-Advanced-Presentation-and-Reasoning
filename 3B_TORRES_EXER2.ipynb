{
  "nbformat": 4,
  "nbformat_minor": 0,
  "metadata": {
    "colab": {
      "provenance": []
    },
    "kernelspec": {
      "name": "python3",
      "display_name": "Python 3"
    },
    "language_info": {
      "name": "python"
    }
  },
  "cells": [
    {
      "cell_type": "code",
      "execution_count": null,
      "metadata": {
        "id": "ul2m9DI61Lxb"
      },
      "outputs": [],
      "source": [
        "import numpy as np\n",
        "import pandas as pd\n",
        "import matplotlib.pyplot as plt"
      ]
    },
    {
      "cell_type": "markdown",
      "source": [
        "# **Exercise 1: Introduction to Probability Theory in AI**"
      ],
      "metadata": {
        "id": "ZGtelYtV1cwX"
      }
    },
    {
      "cell_type": "markdown",
      "source": [
        "**Assessment Task 1: Basic Probability Calculations**"
      ],
      "metadata": {
        "id": "PZ0dBd3-7ugH"
      }
    },
    {
      "cell_type": "code",
      "source": [
        "def joint_probability(p_A, p_B):\n",
        "  return p_A * p_B\n",
        "\n",
        "def marginal_probability(p_A, p_B):\n",
        "  return p_A + p_B - joint_probability(p_A, p_B)\n",
        "\n",
        "def conditional_probability(p_B_given_A, p_A, p_B):\n",
        "  return (p_B_given_A * p_A) / p_B\n",
        "\n",
        "p_A = 0.3\n",
        "p_B = 0.4\n",
        "p_B_given_A = 0.8\n",
        "\n",
        "print(f\"Joint Probability: {joint_probability(p_A, p_B)}\")\n",
        "print(f\"Marginal Probability: {marginal_probability(p_A, p_B)}\")\n",
        "print(f\"Conditional Probability: {conditional_probability(p_B_given_A, p_A, p_B)}\")"
      ],
      "metadata": {
        "id": "h0XCTUS41r-M",
        "colab": {
          "base_uri": "https://localhost:8080/"
        },
        "outputId": "d9f763e0-e10f-41f9-d7ef-93afb298a74c"
      },
      "execution_count": null,
      "outputs": [
        {
          "output_type": "stream",
          "name": "stdout",
          "text": [
            "Joint Probability: 0.12\n",
            "Marginal Probability: 0.58\n",
            "Conditional Probability: 0.6\n"
          ]
        }
      ]
    },
    {
      "cell_type": "markdown",
      "source": [
        "**Feedback:**\n",
        "\n",
        "Given the probabilities above the joint probability is 0.12, Marginal; Probability is 0.58, and Conditional Probability is 0.6. It is calculate from the givven values. To get the Joint probability we multiply the independent probabilities A and B. For Marginal probability we do the probability A plus probability B minus the joint probability or A multiply by B. Lastly, to get the conditional probability we do multiply the B given A to independent probability A then divide it to the independent probability B."
      ],
      "metadata": {
        "id": "yKoPHEKNceSm"
      }
    },
    {
      "cell_type": "markdown",
      "source": [
        "# **Exercise 2: Decision-Making Under Uncertainty**"
      ],
      "metadata": {
        "id": "d_5GNfwy3twW"
      }
    },
    {
      "cell_type": "markdown",
      "source": [
        "**Assessment Task 2: Bayesian Inference**"
      ],
      "metadata": {
        "id": "Z9oZa2SB7-3l"
      }
    },
    {
      "cell_type": "code",
      "source": [
        "def bayesian_inference(prior, positive_result, wo_test):\n",
        "  posterior = (positive_result * prior) / wo_test\n",
        "  return posterior\n",
        "\n",
        "\n",
        "prior_disease = 0.01\n",
        "positive_result = 0.9\n",
        "wo_test = 0.05\n",
        "\n",
        "posterior_disease = bayesian_inference(prior_disease, positive_result, wo_test)\n",
        "print(f\"Posterior probability of disease given positive test: {posterior_disease}\")"
      ],
      "metadata": {
        "id": "SKjoxkKz5YGx",
        "colab": {
          "base_uri": "https://localhost:8080/"
        },
        "outputId": "ee20cc94-65c6-49e5-bbe4-77908759b004"
      },
      "execution_count": null,
      "outputs": [
        {
          "output_type": "stream",
          "name": "stdout",
          "text": [
            "Posterior probability of disease given positive test: 0.18000000000000002\n"
          ]
        }
      ]
    },
    {
      "cell_type": "markdown",
      "source": [
        "**Feedback:**\n",
        "\n",
        "In this problem we would like to get the probability of someone who tested positive actually has the disease so we get the percentage and then calculate all the given. There is 1% of population who has disease, 5% of people without the disease test positive, and 90% for the accuracy for the positive result after testing.\n",
        "\n",
        "To get the probability we first convert all the percentage into decimal then proceed to get the posterior by multiplying the positive_result to prior then divide it to wo_test. The result will give us the probability as 0.18."
      ],
      "metadata": {
        "id": "FVIQZtgHfQLP"
      }
    },
    {
      "cell_type": "markdown",
      "source": [
        "# **Exercise 3: Applying Probability Theory in AI for Diagnosis**"
      ],
      "metadata": {
        "id": "-PK6Bs9w5VTi"
      }
    },
    {
      "cell_type": "markdown",
      "source": [
        "**Assessment Task 3: Decision-Making Under Uncertainty**"
      ],
      "metadata": {
        "id": "KrBlFQX-ibtW"
      }
    },
    {
      "cell_type": "code",
      "source": [
        "def simulate_decision(num_simulations, p_success, reward_success, reward_failure):\n",
        "  outcomes = []\n",
        "  for _ in range(num_simulations):\n",
        "    if np.random.rand() < p_success:\n",
        "      outcomes.append(reward_success)\n",
        "    else:\n",
        "      outcomes.append(reward_failure)\n",
        "  return np.mean(outcomes)\n",
        "\n",
        "p_success = 0.7\n",
        "reward_success = 1000\n",
        "reward_failure = -500\n",
        "\n",
        "average_outcome = simulate_decision(1000, p_success, reward_success, reward_failure)\n",
        "print(f\"Expected value of decision: {average_outcome}\")"
      ],
      "metadata": {
        "id": "1Abkpkhw3zIt",
        "colab": {
          "base_uri": "https://localhost:8080/"
        },
        "outputId": "257a21e3-876f-4d11-a9ff-d85a8fcfed15"
      },
      "execution_count": null,
      "outputs": [
        {
          "output_type": "stream",
          "name": "stdout",
          "text": [
            "Expected value of decision: 503.5\n"
          ]
        }
      ]
    },
    {
      "cell_type": "markdown",
      "source": [
        "**Feedback:**\n",
        "\n",
        " Probability distributions provide essential insights into decision-making under uncertainty by modeling potential outcomes and their likelihoods. By calculating expected values and assessing risks, individuals and organizations can make informed decisions that maximize benefits while minimizing potential losses. Your simulation code effectively illustrates these concepts by demonstrating how varying probabilities influence average outcomes in a structured way, enabling better strategic planning in uncertain environments."
      ],
      "metadata": {
        "id": "ZNwrSo2kh-vr"
      }
    },
    {
      "cell_type": "markdown",
      "source": [
        "# **Exercise 4: Probability Distribution in AI**"
      ],
      "metadata": {
        "id": "JjAumec86om3"
      }
    },
    {
      "cell_type": "markdown",
      "source": [
        "**Assessment Task 4: Real-World Scenario**"
      ],
      "metadata": {
        "id": "u1JBvF8uiz6R"
      }
    },
    {
      "cell_type": "code",
      "source": [
        "humidity = 0.8\n",
        "cloud_cover = 0.9\n",
        "\n",
        "rainn = conditional_probability(humidity, cloud_cover, 1)\n",
        "print(f\"Probability of rain: {rainn}\")"
      ],
      "metadata": {
        "id": "jCKiTWXf7OnT",
        "colab": {
          "base_uri": "https://localhost:8080/"
        },
        "outputId": "96fd2215-8e32-46dc-bba0-8d24a53956b7"
      },
      "execution_count": null,
      "outputs": [
        {
          "output_type": "stream",
          "name": "stdout",
          "text": [
            "Probability of rain: 0.7200000000000001\n"
          ]
        }
      ]
    },
    {
      "cell_type": "markdown",
      "source": [
        "# **Exercise 5: Real-World Application of Probability in AI**"
      ],
      "metadata": {
        "id": "L4FvAcCM7LHU"
      }
    },
    {
      "cell_type": "code",
      "source": [
        "n_trials = 1000\n",
        "p_head = 0.5\n",
        "binomial_distribution = np.random.binomial(n=1, p=p_head, size=n_trials)\n",
        "\n",
        "plt.hist(binomial_distribution, bins=2)\n",
        "plt.title('Binomial Distribution (Coin Flips)')\n",
        "plt.show"
      ],
      "metadata": {
        "id": "lb8L_Pow6vWL",
        "colab": {
          "base_uri": "https://localhost:8080/",
          "height": 622
        },
        "outputId": "00a6977d-0fdb-4543-b73b-9a31252ab2b4"
      },
      "execution_count": null,
      "outputs": [
        {
          "output_type": "execute_result",
          "data": {
            "text/plain": [
              "<function matplotlib.pyplot.show(close=None, block=None)>"
            ],
            "text/html": [
              "<div style=\"max-width:800px; border: 1px solid var(--colab-border-color);\"><style>\n",
              "      pre.function-repr-contents {\n",
              "        overflow-x: auto;\n",
              "        padding: 8px 12px;\n",
              "        max-height: 500px;\n",
              "      }\n",
              "\n",
              "      pre.function-repr-contents.function-repr-contents-collapsed {\n",
              "        cursor: pointer;\n",
              "        max-height: 100px;\n",
              "      }\n",
              "    </style>\n",
              "    <pre style=\"white-space: initial; background:\n",
              "         var(--colab-secondary-surface-color); padding: 8px 12px;\n",
              "         border-bottom: 1px solid var(--colab-border-color);\"><b>matplotlib.pyplot.show</b><br/>def show(*args, **kwargs)</pre><pre class=\"function-repr-contents function-repr-contents-collapsed\" style=\"\"><a class=\"filepath\" style=\"display:none\" href=\"#\">/usr/local/lib/python3.10/dist-packages/matplotlib/pyplot.py</a>Display all open figures.\n",
              "\n",
              "Parameters\n",
              "----------\n",
              "block : bool, optional\n",
              "    Whether to wait for all figures to be closed before returning.\n",
              "\n",
              "    If `True` block and run the GUI main loop until all figure windows\n",
              "    are closed.\n",
              "\n",
              "    If `False` ensure that all figure windows are displayed and return\n",
              "    immediately.  In this case, you are responsible for ensuring\n",
              "    that the event loop is running to have responsive figures.\n",
              "\n",
              "    Defaults to True in non-interactive mode and to False in interactive\n",
              "    mode (see `.pyplot.isinteractive`).\n",
              "\n",
              "See Also\n",
              "--------\n",
              "ion : Enable interactive mode, which shows / updates the figure after\n",
              "      every plotting command, so that calling ``show()`` is not necessary.\n",
              "ioff : Disable interactive mode.\n",
              "savefig : Save the figure to an image file instead of showing it on screen.\n",
              "\n",
              "Notes\n",
              "-----\n",
              "**Saving figures to file and showing a window at the same time**\n",
              "\n",
              "If you want an image file as well as a user interface window, use\n",
              "`.pyplot.savefig` before `.pyplot.show`. At the end of (a blocking)\n",
              "``show()`` the figure is closed and thus unregistered from pyplot. Calling\n",
              "`.pyplot.savefig` afterwards would save a new and thus empty figure. This\n",
              "limitation of command order does not apply if the show is non-blocking or\n",
              "if you keep a reference to the figure and use `.Figure.savefig`.\n",
              "\n",
              "**Auto-show in jupyter notebooks**\n",
              "\n",
              "The jupyter backends (activated via ``%matplotlib inline``,\n",
              "``%matplotlib notebook``, or ``%matplotlib widget``), call ``show()`` at\n",
              "the end of every cell by default. Thus, you usually don&#x27;t have to call it\n",
              "explicitly there.</pre>\n",
              "      <script>\n",
              "      if (google.colab.kernel.accessAllowed && google.colab.files && google.colab.files.view) {\n",
              "        for (const element of document.querySelectorAll('.filepath')) {\n",
              "          element.style.display = 'block'\n",
              "          element.onclick = (event) => {\n",
              "            event.preventDefault();\n",
              "            event.stopPropagation();\n",
              "            google.colab.files.view(element.textContent, 401);\n",
              "          };\n",
              "        }\n",
              "      }\n",
              "      for (const element of document.querySelectorAll('.function-repr-contents')) {\n",
              "        element.onclick = (event) => {\n",
              "          event.preventDefault();\n",
              "          event.stopPropagation();\n",
              "          element.classList.toggle('function-repr-contents-collapsed');\n",
              "        };\n",
              "      }\n",
              "      </script>\n",
              "      </div>"
            ]
          },
          "metadata": {},
          "execution_count": 15
        },
        {
          "output_type": "display_data",
          "data": {
            "text/plain": [
              "<Figure size 640x480 with 1 Axes>"
            ],
            "image/png": "[encoded data removed]"
          },
          "metadata": {}
        }
      ]
    }
  ]
}