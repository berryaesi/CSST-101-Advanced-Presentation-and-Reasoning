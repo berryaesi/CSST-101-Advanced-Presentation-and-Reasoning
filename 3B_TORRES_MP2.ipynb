{
  "nbformat": 4,
  "nbformat_minor": 0,
  "metadata": {
    "colab": {
      "provenance": [],
      "toc_visible": true
    },
    "kernelspec": {
      "name": "python3",
      "display_name": "Python 3"
    },
    "language_info": {
      "name": "python"
    }
  },
  "cells": [
    {
      "cell_type": "markdown",
      "source": [
        "# **Propositional Logic Operations**"
      ],
      "metadata": {
        "id": "fE2rW69v-Kb5"
      }
    },
    {
      "cell_type": "code",
      "execution_count": 2,
      "metadata": {
        "colab": {
          "base_uri": "https://localhost:8080/"
        },
        "id": "Sqc8QGGq6QgC",
        "outputId": "7fda6008-8863-4ec0-e0cb-8e901438f3f3"
      },
      "outputs": [
        {
          "output_type": "stream",
          "name": "stdout",
          "text": [
            "p AND q: False\n",
            "p OR q: True\n",
            "NOT p: False\n",
            "p IMPLIES q: False\n"
          ]
        }
      ],
      "source": [
        "def logical_and(p, q):\n",
        "    \"\"\"Logical conjunction (AND)\"\"\"\n",
        "    return p and q\n",
        "\n",
        "def logical_or(p, q):\n",
        "    \"\"\"Logical disjunction (OR)\"\"\"\n",
        "    return p or q\n",
        "\n",
        "def logical_not(p):\n",
        "    \"\"\"Logical negation (NOT)\"\"\"\n",
        "    return not p\n",
        "\n",
        "def logical_implies(p, q):\n",
        "    \"\"\"Logical implication (IMPLIES)\"\"\"\n",
        "    return not p or q  # Equivalent to ¬p ∨ q\n",
        "\n",
        "    # Test values\n",
        "p = True\n",
        "q = False\n",
        "\n",
        "print(\"p AND q:\", logical_and(p, q))  # Output: False\n",
        "print(\"p OR q:\", logical_or(p, q))    # Output: True\n",
        "print(\"NOT p:\", logical_not(p))        # Output: False\n",
        "print(\"p IMPLIES q:\", logical_implies(p, q))  # Output: False"
      ]
    },
    {
      "cell_type": "markdown",
      "source": [
        "# **Evaluate Logical Statements**"
      ],
      "metadata": {
        "id": "FhkQrf_wGEse"
      }
    },
    {
      "cell_type": "code",
      "source": [
        "def evaluate(statement, values):\n",
        "    # Prepare the local scope for eval with the provided values\n",
        "    local_scope = {key: value for key, value in values.items()}\n",
        "\n",
        "    # Replace logical operators to match Python syntax\n",
        "    # AND -> and, OR -> or, NOT -> not\n",
        "    statement = statement.replace('AND', 'and').replace('OR', 'or').replace('NOT', 'not')\n",
        "\n",
        "    # Evaluate the statement\n",
        "    return eval(statement, {}, local_scope)\n",
        "\n",
        "# Example usage\n",
        "values = {\n",
        "    'A': True,\n",
        "    'B': False,\n",
        "}\n",
        "\n",
        "# Logical statement to evaluate\n",
        "statement = \"A AND NOT B\"\n",
        "\n",
        "# Evaluating the statement\n",
        "result = evaluate(statement, values)\n",
        "print(f\"The result of '{statement}' is: {result}\")  # Output: The result of 'A AND NOT B' is: True"
      ],
      "metadata": {
        "colab": {
          "base_uri": "https://localhost:8080/"
        },
        "id": "cN8WVRYKAAMz",
        "outputId": "3400ea12-ca1c-437f-a3f1-04d733e40dfb"
      },
      "execution_count": 3,
      "outputs": [
        {
          "output_type": "stream",
          "name": "stdout",
          "text": [
            "The result of 'A AND NOT B' is: True\n"
          ]
        }
      ]
    },
    {
      "cell_type": "markdown",
      "source": [
        "#**Extend to Predicate Logic**"
      ],
      "metadata": {
        "id": "NFKJQLqwGIS-"
      }
    },
    {
      "cell_type": "code",
      "source": [
        "def universal_quantifier(predicate, domain):\n",
        "    return all(predicate(x) for x in domain)\n",
        "\n",
        "def existential_quantifier(predicate, domain):\n",
        "    return any(predicate(x) for x in domain)\n",
        "\n",
        "# Example usage\n",
        "# Define a predicate function\n",
        "def is_even(x):\n",
        "    return x % 2 == 0\n",
        "\n",
        "# Define a domain\n",
        "domain = range(1, 11)  # Domain: {1, 2, ..., 10}\n",
        "\n",
        "# Evaluate using universal quantifier\n",
        "forall_even = universal_quantifier(is_even, domain)\n",
        "print(f\"∀x (x is even) for x in {list(domain)}: {forall_even}\")  # Output: False\n",
        "\n",
        "# Evaluate using existential quantifier\n",
        "exists_even = existential_quantifier(is_even, domain)\n",
        "print(f\"∃x (x is even) for x in {list(domain)}: {exists_even}\")  # Output: True"
      ],
      "metadata": {
        "colab": {
          "base_uri": "https://localhost:8080/"
        },
        "id": "Sn4ABEbzGU-9",
        "outputId": "bea735cf-091e-4c8f-990b-f31fdf98d27a"
      },
      "execution_count": 4,
      "outputs": [
        {
          "output_type": "stream",
          "name": "stdout",
          "text": [
            "∀x (x is even) for x in [1, 2, 3, 4, 5, 6, 7, 8, 9, 10]: False\n",
            "∃x (x is even) for x in [1, 2, 3, 4, 5, 6, 7, 8, 9, 10]: True\n"
          ]
        }
      ]
    },
    {
      "cell_type": "markdown",
      "source": [
        "# **AI Agent Development**"
      ],
      "metadata": {
        "id": "P1xz7wMQGkUl"
      }
    },
    {
      "cell_type": "code",
      "source": [
        "import random\n",
        "\n",
        "class TicTacToe:\n",
        "    def __init__(self):\n",
        "        self.board = [' ' for _ in range(9)]  # 3x3 board\n",
        "        self.current_player = 'X'  # Player X starts\n",
        "\n",
        "    def display_board(self):\n",
        "        \"\"\"Display the current state of the board.\"\"\"\n",
        "        print(\"\\n\")\n",
        "        for i in range(3):\n",
        "            print(f\"{self.board[i*3]} | {self.board[i*3+1]} | {self.board[i*3+2]}\")\n",
        "            if i < 2:\n",
        "                print(\"---------\")\n",
        "        print(\"\\n\")\n",
        "\n",
        "    def is_winner(self, player):\n",
        "        \"\"\"Check if the given player has won.\"\"\"\n",
        "        winning_combinations = [\n",
        "            [0, 1, 2], [3, 4, 5], [6, 7, 8],  # Horizontal\n",
        "            [0, 3, 6], [1, 4, 7], [2, 5, 8],  # Vertical\n",
        "            [0, 4, 8], [2, 4, 6]               # Diagonal\n",
        "        ]\n",
        "        return any(all(self.board[i] == player for i in combo) for combo in winning_combinations)\n",
        "\n",
        "    def is_draw(self):\n",
        "        \"\"\"Check if the game is a draw.\"\"\"\n",
        "        return ' ' not in self.board\n",
        "\n",
        "    def make_move(self, position, player):\n",
        "        \"\"\"Place a player's mark on the board.\"\"\"\n",
        "        if self.board[position] == ' ':\n",
        "            self.board[position] = player\n",
        "            return True\n",
        "        return False\n",
        "\n",
        "    def ai_move(self):\n",
        "        \"\"\"AI makes a move based on simple logic.\"\"\"\n",
        "        # Check if AI can win in the next move\n",
        "        for i in range(9):\n",
        "            if self.board[i] == ' ':\n",
        "                self.board[i] = 'O'  # Assume AI is O\n",
        "                if self.is_winner('O'):\n",
        "                    return True\n",
        "                self.board[i] = ' '  # Undo move\n",
        "\n",
        "        # Block opponent's winning move\n",
        "        for i in range(9):\n",
        "            if self.board[i] == ' ':\n",
        "                self.board[i] = 'X'  # Assume player is X\n",
        "                if self.is_winner('X'):\n",
        "                    self.board[i] = 'O'  # Block opponent\n",
        "                    return True\n",
        "                self.board[i] = ' '\n",
        "\n",
        "        # Choose a random available position\n",
        "        available_moves = [i for i in range(9) if self.board[i] == ' ']\n",
        "        if available_moves:\n",
        "            move = random.choice(available_moves)\n",
        "            self.make_move(move, 'O')\n",
        "            return True\n",
        "\n",
        "        return False\n",
        "\n",
        "    def play_game(self):\n",
        "        \"\"\"Main method to play the game.\"\"\"\n",
        "        while True:\n",
        "            self.display_board()\n",
        "            if self.current_player == 'X':\n",
        "                position = int(input(\"Enter your move (0-8): \"))\n",
        "                if not self.make_move(position, 'X'):\n",
        "                    print(\"Invalid move! Try again.\")\n",
        "                    continue\n",
        "            else:\n",
        "                print(\"AI is making a move...\")\n",
        "                self.ai_move()\n",
        "\n",
        "            if self.is_winner(self.current_player):\n",
        "                self.display_board()\n",
        "                print(f\"Player {self.current_player} wins!\")\n",
        "                break\n",
        "\n",
        "            if self.is_draw():\n",
        "                self.display_board()\n",
        "                print(\"It's a draw!\")\n",
        "                break\n",
        "\n",
        "            # Switch players\n",
        "            self.current_player = 'O' if self.current_player == 'X' else 'X'\n",
        "\n",
        "# Start the game\n",
        "if __name__ == \"__main__\":\n",
        "    game = TicTacToe()\n",
        "    game.play_game()"
      ],
      "metadata": {
        "colab": {
          "base_uri": "https://localhost:8080/"
        },
        "id": "2niADx3kGlJ8",
        "outputId": "f1f80391-ea36-4a5d-d62c-c76990485e73"
      },
      "execution_count": 5,
      "outputs": [
        {
          "output_type": "stream",
          "name": "stdout",
          "text": [
            "\n",
            "\n",
            "  |   |  \n",
            "---------\n",
            "  |   |  \n",
            "---------\n",
            "  |   |  \n",
            "\n",
            "\n",
            "Enter your move (0-8): 4\n",
            "\n",
            "\n",
            "  |   |  \n",
            "---------\n",
            "  | X |  \n",
            "---------\n",
            "  |   |  \n",
            "\n",
            "\n",
            "AI is making a move...\n",
            "\n",
            "\n",
            "  |   | O\n",
            "---------\n",
            "  | X |  \n",
            "---------\n",
            "  |   |  \n",
            "\n",
            "\n",
            "Enter your move (0-8): 0\n",
            "\n",
            "\n",
            "X |   | O\n",
            "---------\n",
            "  | X |  \n",
            "---------\n",
            "  |   |  \n",
            "\n",
            "\n",
            "AI is making a move...\n",
            "\n",
            "\n",
            "X |   | O\n",
            "---------\n",
            "  | X |  \n",
            "---------\n",
            "  |   | O\n",
            "\n",
            "\n",
            "Enter your move (0-8): 5\n",
            "\n",
            "\n",
            "X |   | O\n",
            "---------\n",
            "  | X | X\n",
            "---------\n",
            "  |   | O\n",
            "\n",
            "\n",
            "AI is making a move...\n",
            "\n",
            "\n",
            "X |   | O\n",
            "---------\n",
            "O | X | X\n",
            "---------\n",
            "  |   | O\n",
            "\n",
            "\n",
            "Enter your move (0-8): 7\n",
            "\n",
            "\n",
            "X |   | O\n",
            "---------\n",
            "O | X | X\n",
            "---------\n",
            "  | X | O\n",
            "\n",
            "\n",
            "AI is making a move...\n",
            "\n",
            "\n",
            "X | O | O\n",
            "---------\n",
            "O | X | X\n",
            "---------\n",
            "  | X | O\n",
            "\n",
            "\n",
            "Enter your move (0-8): 6\n",
            "\n",
            "\n",
            "X | O | O\n",
            "---------\n",
            "O | X | X\n",
            "---------\n",
            "X | X | O\n",
            "\n",
            "\n",
            "It's a draw!\n"
          ]
        }
      ]
    }
  ]
}